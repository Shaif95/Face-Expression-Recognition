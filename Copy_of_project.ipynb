{
  "nbformat": 4,
  "nbformat_minor": 0,
  "metadata": {
    "colab": {
      "name": "Copy of project",
      "provenance": [],
      "collapsed_sections": [],
      "authorship_tag": "ABX9TyMTZ4YQEGY+ixaJSwjSNYDz",
      "include_colab_link": true
    },
    "kernelspec": {
      "name": "python3",
      "display_name": "Python 3"
    },
    "language_info": {
      "name": "python"
    }
  },
  "cells": [
    {
      "cell_type": "markdown",
      "metadata": {
        "id": "view-in-github",
        "colab_type": "text"
      },
      "source": [
        "<a href=\"https://colab.research.google.com/github/Shaif95/Face-Expression-Recognition/blob/main/Copy_of_project.ipynb\" target=\"_parent\"><img src=\"https://colab.research.google.com/assets/colab-badge.svg\" alt=\"Open In Colab\"/></a>"
      ]
    },
    {
      "cell_type": "code",
      "metadata": {
        "id": "37i6xEUJxXdV",
        "colab": {
          "resources": {
            "http://localhost:8080/nbextensions/google.colab/files.js": {
              "data": "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",
              "ok": true,
              "headers": [
                [
                  "content-type",
                  "application/javascript"
                ]
              ],
              "status": 200,
              "status_text": ""
            }
          },
          "base_uri": "https://localhost:8080/",
          "height": 72
        },
        "outputId": "16c22e5c-aa89-4dd5-b445-eb9634a337ed"
      },
      "source": [
        "from google.colab import files\n",
        "uploaded = files.upload()"
      ],
      "execution_count": null,
      "outputs": [
        {
          "output_type": "display_data",
          "data": {
            "text/html": [
              "\n",
              "     <input type=\"file\" id=\"files-da7a7dbb-7f5b-470a-b3df-e3c8ce5a0fcc\" name=\"files[]\" multiple disabled\n",
              "        style=\"border:none\" />\n",
              "     <output id=\"result-da7a7dbb-7f5b-470a-b3df-e3c8ce5a0fcc\">\n",
              "      Upload widget is only available when the cell has been executed in the\n",
              "      current browser session. Please rerun this cell to enable.\n",
              "      </output>\n",
              "      <script src=\"/nbextensions/google.colab/files.js\"></script> "
            ],
            "text/plain": [
              "<IPython.core.display.HTML object>"
            ]
          },
          "metadata": {
            "tags": []
          }
        },
        {
          "output_type": "stream",
          "text": [
            "Saving data.zip to data.zip\n"
          ],
          "name": "stdout"
        }
      ]
    },
    {
      "cell_type": "code",
      "metadata": {
        "id": "JchBzT3kxdYd"
      },
      "source": [
        "#!unzip data.zip"
      ],
      "execution_count": null,
      "outputs": []
    },
    {
      "cell_type": "code",
      "metadata": {
        "id": "UgYLF8F-xdbZ",
        "colab": {
          "base_uri": "https://localhost:8080/"
        },
        "outputId": "094ce985-1307-4ff8-81a6-f678127db88c"
      },
      "source": [
        "import os\n",
        "import cv2\n",
        "import numpy as np\n",
        "import matplotlib.pyplot as plt\n",
        "import glob\n",
        "from PIL import Image\n",
        "import re\n",
        "s=\"train\"\n",
        "def key_func(s, _nsre=re.compile('([0-9]+)')):\n",
        "    return [\n",
        "        int(text)\n",
        "        if text.isdigit() else text.lower()\n",
        "        for text in _nsre.split(s)]\n",
        "\n",
        "images = []\n",
        "for img in sorted(glob.glob(\"data/\"+s+\"_exp/Ang/*.jpg\")):\n",
        "    n= cv2.imread(img)\n",
        "    images.append(n)\n",
        "for img in sorted(glob.glob(\"data/\"+s+\"_exp/Dis/*.jpg\")):\n",
        "    n= cv2.imread(img)\n",
        "    images.append(n)\n",
        "for img in sorted(glob.glob(\"data/\"+s+\"_exp/Hap/*.jpg\")):\n",
        "    n= cv2.imread(img)\n",
        "    images.append(n)\n",
        "for img in sorted(glob.glob(\"data/\"+s+\"_exp/Sad/*.jpg\")):\n",
        "    n= cv2.imread(img)\n",
        "    images.append(n)\n",
        "for img in sorted(glob.glob(\"data/\"+s+\"_exp/Sup/*.jpg\")):\n",
        "    n= cv2.imread(img)\n",
        "    images.append(n)\n",
        "\n",
        "n= len(images)\n",
        "a = []\n",
        "for i in range (n) :\n",
        "    a.append(cv2.resize(images[i], dsize=(28,28), interpolation=cv2.INTER_CUBIC))\n",
        "\n",
        "X_train = np.array(a)\n",
        "\n",
        "x_train = np.zeros(X_train.shape[:-1])\n",
        "for i in range(X_train.shape[0]): \n",
        "    x_train[i] = cv2.cvtColor(X_train[i], cv2.COLOR_BGR2GRAY) \n",
        "\n",
        "image = []\n",
        "for img in sorted(glob.glob(\"data/\"+s+\"_nu/Ang_Nu/*.jpg\")):\n",
        "    n= cv2.imread(img)\n",
        "    image.append(n)\n",
        "\n",
        "for img in sorted(glob.glob(\"data/\"+s+\"_nu/Dis_Nu/*.jpg\")):\n",
        "    n= cv2.imread(img)\n",
        "    image.append(n)\n",
        "for img in sorted(glob.glob(\"data/\"+s+\"_nu/Hap_Nu/*.jpg\")):\n",
        "    n= cv2.imread(img)\n",
        "    image.append(n)\n",
        "\n",
        "for img in sorted(glob.glob(\"data/\"+s+\"_nu/Sad-Nu/*.jpg\")):\n",
        "    n= cv2.imread(img)\n",
        "    image.append(n)\n",
        "\n",
        "for img in sorted(glob.glob(\"data/\"+s+\"_nu/Sup_Nu/*.jpg\")):\n",
        "    n= cv2.imread(img)\n",
        "    image.append(n)\n",
        "\n",
        "n= len(image)\n",
        "\n",
        "b = []\n",
        "\n",
        "for i in range (n) :\n",
        "    b.append(cv2.resize(image[i], dsize=(28,28), interpolation=cv2.INTER_CUBIC))\n",
        "X_train2 = np.array(b)\n",
        "\n",
        "x_res = np.zeros(X_train2.shape[:-1])\n",
        "for i in range(X_train2.shape[0]): \n",
        "    x_res[i] = cv2.cvtColor(X_train2[i], cv2.COLOR_BGR2GRAY) \n",
        "\n",
        "print(np.shape(x_train))\n",
        "print(np.shape(x_res))\n",
        "print(np.shape(x_train[0]))\n",
        "print(np.shape(x_res[0]))\n"
      ],
      "execution_count": null,
      "outputs": [
        {
          "output_type": "stream",
          "text": [
            "(460, 28, 28)\n",
            "(460, 28, 28)\n",
            "(28, 28)\n",
            "(28, 28)\n"
          ],
          "name": "stdout"
        }
      ]
    },
    {
      "cell_type": "code",
      "metadata": {
        "colab": {
          "base_uri": "https://localhost:8080/"
        },
        "id": "NW-z0UIQx5QF",
        "outputId": "36ba32ca-7b21-433c-b3a1-5c9802a0f092"
      },
      "source": [
        "\n",
        "s=\"test\"\n",
        "def key_func(s, _nsre=re.compile('([0-9]+)')):\n",
        "    return [\n",
        "        int(text)\n",
        "        if text.isdigit() else text.lower()\n",
        "        for text in _nsre.split(s)]\n",
        "\n",
        "images = []\n",
        "for img in sorted(glob.glob(\"data/\"+s+\"_exp/Ang/*.jpg\")):\n",
        "    n= cv2.imread(img)\n",
        "    images.append(n)\n",
        "for img in sorted(glob.glob(\"data/\"+s+\"_exp/Dis/*.jpg\")):\n",
        "    n= cv2.imread(img)\n",
        "    images.append(n)\n",
        "for img in sorted(glob.glob(\"data/\"+s+\"_exp/Hap/*.jpg\")):\n",
        "    n= cv2.imread(img)\n",
        "    images.append(n)\n",
        "for img in sorted(glob.glob(\"data/\"+s+\"_exp/Sad/*.jpg\")):\n",
        "    n= cv2.imread(img)\n",
        "    images.append(n)\n",
        "for img in sorted(glob.glob(\"data/\"+s+\"_exp/Sup/*.jpg\")):\n",
        "    n= cv2.imread(img)\n",
        "    images.append(n)\n",
        "\n",
        "n= len(images)\n",
        "a = []\n",
        "for i in range (n) :\n",
        "    a.append(cv2.resize(images[i], dsize=(28,28), interpolation=cv2.INTER_CUBIC))\n",
        "\n",
        "X_train = np.array(a)\n",
        "\n",
        "x_test = np.zeros(X_train.shape[:-1])\n",
        "for i in range(X_train.shape[0]): \n",
        "    x_test[i] = cv2.cvtColor(X_train[i], cv2.COLOR_BGR2GRAY) \n",
        "\n",
        "image = []\n",
        "for img in sorted(glob.glob(\"data/\"+s+\"_nu/Ang_Nu/*.jpg\")):\n",
        "    n= cv2.imread(img)\n",
        "    image.append(n)\n",
        "\n",
        "for img in sorted(glob.glob(\"data/\"+s+\"_nu/Dis_Nu/*.jpg\")):\n",
        "    n= cv2.imread(img)\n",
        "    image.append(n)\n",
        "for img in sorted(glob.glob(\"data/\"+s+\"_nu/Hap_Nu/*.jpg\")):\n",
        "    n= cv2.imread(img)\n",
        "    image.append(n)\n",
        "\n",
        "for img in sorted(glob.glob(\"data/\"+s+\"_nu/Sad-Nu/*.jpg\")):\n",
        "    n= cv2.imread(img)\n",
        "    image.append(n)\n",
        "\n",
        "for img in sorted(glob.glob(\"data/\"+s+\"_nu/Sup_Nu/*.jpg\")):\n",
        "    n= cv2.imread(img)\n",
        "    image.append(n)\n",
        "\n",
        "n= len(image)\n",
        "\n",
        "b = []\n",
        "\n",
        "for i in range (n) :\n",
        "    b.append(cv2.resize(image[i], dsize=(28,28), interpolation=cv2.INTER_CUBIC))\n",
        "X_train2 = np.array(b)\n",
        "\n",
        "t_res = np.zeros(X_train2.shape[:-1])\n",
        "for i in range(X_train2.shape[0]): \n",
        "    t_res[i] = cv2.cvtColor(X_train2[i], cv2.COLOR_BGR2GRAY) \n",
        "\n",
        "print(np.shape(x_test))\n",
        "print(np.shape(t_res))\n",
        "print(np.shape(x_test[0]))\n",
        "print(np.shape(t_res[0]))\n"
      ],
      "execution_count": null,
      "outputs": [
        {
          "output_type": "stream",
          "text": [
            "(75, 28, 28)\n",
            "(75, 28, 28)\n",
            "(28, 28)\n",
            "(28, 28)\n"
          ],
          "name": "stdout"
        }
      ]
    },
    {
      "cell_type": "code",
      "metadata": {
        "colab": {
          "base_uri": "https://localhost:8080/",
          "height": 286
        },
        "id": "SjZL2VSJcXXR",
        "outputId": "78c107ee-396e-4a91-c1a2-05fcc191ecfd"
      },
      "source": [
        "m=30\n",
        "f, axarr = plt.subplots(2,2)\n",
        "axarr[0,1].imshow(t_res[m])\n",
        "axarr[1,1].imshow(x_test[m])"
      ],
      "execution_count": null,
      "outputs": [
        {
          "output_type": "execute_result",
          "data": {
            "text/plain": [
              "<matplotlib.image.AxesImage at 0x7f401d344410>"
            ]
          },
          "metadata": {
            "tags": []
          },
          "execution_count": 24
        },
        {
          "output_type": "display_data",
          "data": {
            "image/png": "[encoded data removed]",
            "text/plain": [
              "<Figure size 432x288 with 4 Axes>"
            ]
          },
          "metadata": {
            "tags": [],
            "needs_background": "light"
          }
        }
      ]
    },
    {
      "cell_type": "code",
      "metadata": {
        "colab": {
          "base_uri": "https://localhost:8080/"
        },
        "id": "-dLh9GTLcYpo",
        "outputId": "0b338a25-3df3-44e7-d7bd-f7890bf78689"
      },
      "source": [
        "x_train = x_train.astype('float32') / 255.\n",
        "x_train = np.reshape(x_train, (len(x_train),28,28,1))\n",
        "x_test = x_test.astype('float32') / 255.\n",
        "x_test = np.reshape(x_test, (len(x_test),28,28,1))\n",
        "x_res = x_res.astype('float32') / 255.\n",
        "t_res = t_res.astype('float32') / 255.\n",
        "\n",
        "print(np.shape(x_train))\n",
        "print(np.shape(x_res))\n",
        "\n",
        "print(np.shape(x_test))\n",
        "print(np.shape(t_res))"
      ],
      "execution_count": null,
      "outputs": [
        {
          "output_type": "stream",
          "text": [
            "(460, 28, 28, 1)\n",
            "(460, 28, 28)\n",
            "(75, 28, 28, 1)\n",
            "(75, 28, 28)\n"
          ],
          "name": "stdout"
        }
      ]
    },
    {
      "cell_type": "code",
      "metadata": {
        "id": "WkSQiF9rYTe0"
      },
      "source": [
        "\n",
        "train_labels = to_categorical(train_labels)\n",
        "test_labels = to_categorical(test_labels)"
      ],
      "execution_count": null,
      "outputs": []
    },
    {
      "cell_type": "code",
      "metadata": {
        "id": "CYXBaGIZXa8Y"
      },
      "source": [
        "from keras import layers\n",
        "from keras import models\n",
        "\n",
        "model = models.Sequential()\n",
        "model.add(layers.Conv2D(32, (3, 3), activation='relu', input_shape=(28, 28, 1)))\n",
        "model.add(layers.MaxPooling2D((2, 2)))\n",
        "model.add(layers.Conv2D(64, (3, 3), activation='relu'))\n",
        "model.add(layers.MaxPooling2D((2, 2)))\n",
        "model.add(layers.Conv2D(64, (3, 3), activation='relu'))\n",
        "model.add(layers.Flatten()) \n",
        "model.add(layers.Dense(64, activation='relu'))\n",
        "model.add(layers.Dense(5, activation='softmax'))"
      ],
      "execution_count": null,
      "outputs": []
    },
    {
      "cell_type": "code",
      "metadata": {
        "id": "P6HNn6X5xdeK",
        "colab": {
          "base_uri": "https://localhost:8080/"
        },
        "outputId": "3506822d-4ac3-41ce-e947-5b44958dbd98"
      },
      "source": [
        "from keras.datasets import mnist\n",
        "from keras.utils import to_categorical\n",
        "\n",
        "model.compile(optimizer='adam',\n",
        "              loss='categorical_crossentropy',\n",
        "              metrics=['accuracy'])\n",
        "model.fit(x_train, train_labels, epochs=200, batch_size=64)"
      ],
      "execution_count": null,
      "outputs": [
        {
          "output_type": "stream",
          "text": [
            "Epoch 1/200\n",
            "8/8 [==============================] - 1s 32ms/step - loss: 1.2986 - accuracy: 0.5089\n",
            "Epoch 2/200\n",
            "8/8 [==============================] - 0s 37ms/step - loss: 1.3342 - accuracy: 0.4872\n",
            "Epoch 3/200\n",
            "8/8 [==============================] - 0s 32ms/step - loss: 1.3090 - accuracy: 0.5116\n",
            "Epoch 4/200\n",
            "8/8 [==============================] - 0s 32ms/step - loss: 1.3185 - accuracy: 0.4989\n",
            "Epoch 5/200\n",
            "8/8 [==============================] - 0s 35ms/step - loss: 1.3313 - accuracy: 0.4782\n",
            "Epoch 6/200\n",
            "8/8 [==============================] - 0s 32ms/step - loss: 1.3374 - accuracy: 0.4828\n",
            "Epoch 7/200\n",
            "8/8 [==============================] - 0s 34ms/step - loss: 1.3093 - accuracy: 0.5036\n",
            "Epoch 8/200\n",
            "8/8 [==============================] - 0s 32ms/step - loss: 1.3281 - accuracy: 0.4843\n",
            "Epoch 9/200\n",
            "8/8 [==============================] - 0s 35ms/step - loss: 1.3311 - accuracy: 0.4893\n",
            "Epoch 10/200\n",
            "8/8 [==============================] - 0s 33ms/step - loss: 1.3003 - accuracy: 0.5149\n",
            "Epoch 11/200\n",
            "8/8 [==============================] - 0s 35ms/step - loss: 1.3205 - accuracy: 0.4993\n",
            "Epoch 12/200\n",
            "8/8 [==============================] - 0s 33ms/step - loss: 1.2886 - accuracy: 0.4991\n",
            "Epoch 13/200\n",
            "8/8 [==============================] - 0s 35ms/step - loss: 1.3353 - accuracy: 0.4771\n",
            "Epoch 14/200\n",
            "8/8 [==============================] - 0s 36ms/step - loss: 1.3237 - accuracy: 0.5130\n",
            "Epoch 15/200\n",
            "8/8 [==============================] - 0s 37ms/step - loss: 1.3625 - accuracy: 0.4708\n",
            "Epoch 16/200\n",
            "8/8 [==============================] - 0s 34ms/step - loss: 1.3394 - accuracy: 0.4896\n",
            "Epoch 17/200\n",
            "8/8 [==============================] - 0s 33ms/step - loss: 1.3044 - accuracy: 0.4916\n",
            "Epoch 18/200\n",
            "8/8 [==============================] - 0s 32ms/step - loss: 1.3366 - accuracy: 0.4859\n",
            "Epoch 19/200\n",
            "8/8 [==============================] - 0s 33ms/step - loss: 1.3516 - accuracy: 0.4673\n",
            "Epoch 20/200\n",
            "8/8 [==============================] - 0s 33ms/step - loss: 1.3316 - accuracy: 0.4901\n",
            "Epoch 21/200\n",
            "8/8 [==============================] - 0s 31ms/step - loss: 1.3430 - accuracy: 0.4888\n",
            "Epoch 22/200\n",
            "8/8 [==============================] - 0s 33ms/step - loss: 1.2689 - accuracy: 0.5346\n",
            "Epoch 23/200\n",
            "8/8 [==============================] - 0s 33ms/step - loss: 1.3075 - accuracy: 0.5105\n",
            "Epoch 24/200\n",
            "8/8 [==============================] - 0s 32ms/step - loss: 1.3342 - accuracy: 0.4978\n",
            "Epoch 25/200\n",
            "8/8 [==============================] - 0s 32ms/step - loss: 1.2920 - accuracy: 0.5150\n",
            "Epoch 26/200\n",
            "8/8 [==============================] - 0s 34ms/step - loss: 1.2947 - accuracy: 0.5132\n",
            "Epoch 27/200\n",
            "8/8 [==============================] - 0s 34ms/step - loss: 1.2996 - accuracy: 0.5055\n",
            "Epoch 28/200\n",
            "8/8 [==============================] - 0s 33ms/step - loss: 1.3529 - accuracy: 0.4827\n",
            "Epoch 29/200\n",
            "8/8 [==============================] - 0s 33ms/step - loss: 1.3115 - accuracy: 0.5022\n",
            "Epoch 30/200\n",
            "8/8 [==============================] - 0s 32ms/step - loss: 1.2838 - accuracy: 0.5150\n",
            "Epoch 31/200\n",
            "8/8 [==============================] - 0s 33ms/step - loss: 1.3117 - accuracy: 0.5062\n",
            "Epoch 32/200\n",
            "8/8 [==============================] - 0s 33ms/step - loss: 1.2845 - accuracy: 0.5162\n",
            "Epoch 33/200\n",
            "8/8 [==============================] - 0s 34ms/step - loss: 1.3083 - accuracy: 0.4948\n",
            "Epoch 34/200\n",
            "8/8 [==============================] - 0s 33ms/step - loss: 1.3303 - accuracy: 0.5060\n",
            "Epoch 35/200\n",
            "8/8 [==============================] - 0s 32ms/step - loss: 1.3596 - accuracy: 0.4816\n",
            "Epoch 36/200\n",
            "8/8 [==============================] - 0s 32ms/step - loss: 1.3110 - accuracy: 0.5194\n",
            "Epoch 37/200\n",
            "8/8 [==============================] - 0s 32ms/step - loss: 1.3096 - accuracy: 0.4932\n",
            "Epoch 38/200\n",
            "8/8 [==============================] - 0s 32ms/step - loss: 1.3441 - accuracy: 0.4771\n",
            "Epoch 39/200\n",
            "8/8 [==============================] - 0s 33ms/step - loss: 1.3020 - accuracy: 0.5103\n",
            "Epoch 40/200\n",
            "8/8 [==============================] - 0s 34ms/step - loss: 1.3294 - accuracy: 0.4886\n",
            "Epoch 41/200\n",
            "8/8 [==============================] - 0s 33ms/step - loss: 1.2587 - accuracy: 0.5462\n",
            "Epoch 42/200\n",
            "8/8 [==============================] - 0s 32ms/step - loss: 1.2784 - accuracy: 0.5152\n",
            "Epoch 43/200\n",
            "8/8 [==============================] - 0s 33ms/step - loss: 1.3289 - accuracy: 0.4763\n",
            "Epoch 44/200\n",
            "8/8 [==============================] - 0s 33ms/step - loss: 1.3333 - accuracy: 0.4874\n",
            "Epoch 45/200\n",
            "8/8 [==============================] - 0s 32ms/step - loss: 1.2882 - accuracy: 0.5033\n",
            "Epoch 46/200\n",
            "8/8 [==============================] - 0s 34ms/step - loss: 1.3423 - accuracy: 0.4888\n",
            "Epoch 47/200\n",
            "8/8 [==============================] - 0s 32ms/step - loss: 1.2851 - accuracy: 0.5263\n",
            "Epoch 48/200\n",
            "8/8 [==============================] - 0s 33ms/step - loss: 1.2975 - accuracy: 0.5114\n",
            "Epoch 49/200\n",
            "8/8 [==============================] - 0s 34ms/step - loss: 1.3247 - accuracy: 0.5085\n",
            "Epoch 50/200\n",
            "8/8 [==============================] - 0s 34ms/step - loss: 1.3063 - accuracy: 0.5079\n",
            "Epoch 51/200\n",
            "8/8 [==============================] - 0s 33ms/step - loss: 1.3049 - accuracy: 0.5021\n",
            "Epoch 52/200\n",
            "8/8 [==============================] - 0s 36ms/step - loss: 1.3382 - accuracy: 0.4826\n",
            "Epoch 53/200\n",
            "8/8 [==============================] - 0s 33ms/step - loss: 1.3134 - accuracy: 0.4889\n",
            "Epoch 54/200\n",
            "8/8 [==============================] - 0s 33ms/step - loss: 1.3229 - accuracy: 0.4832\n",
            "Epoch 55/200\n",
            "8/8 [==============================] - 0s 33ms/step - loss: 1.3094 - accuracy: 0.4936\n",
            "Epoch 56/200\n",
            "8/8 [==============================] - 0s 34ms/step - loss: 1.2763 - accuracy: 0.5174\n",
            "Epoch 57/200\n",
            "8/8 [==============================] - 0s 33ms/step - loss: 1.3165 - accuracy: 0.4859\n",
            "Epoch 58/200\n",
            "8/8 [==============================] - 0s 32ms/step - loss: 1.3089 - accuracy: 0.4978\n",
            "Epoch 59/200\n",
            "8/8 [==============================] - 0s 33ms/step - loss: 1.3406 - accuracy: 0.4855\n",
            "Epoch 60/200\n",
            "8/8 [==============================] - 0s 37ms/step - loss: 1.3075 - accuracy: 0.5068\n",
            "Epoch 61/200\n",
            "8/8 [==============================] - 0s 32ms/step - loss: 1.2861 - accuracy: 0.5186\n",
            "Epoch 62/200\n",
            "8/8 [==============================] - 0s 33ms/step - loss: 1.3177 - accuracy: 0.4936\n",
            "Epoch 63/200\n",
            "8/8 [==============================] - 0s 34ms/step - loss: 1.3417 - accuracy: 0.4852\n",
            "Epoch 64/200\n",
            "8/8 [==============================] - 0s 34ms/step - loss: 1.3303 - accuracy: 0.4841\n",
            "Epoch 65/200\n",
            "8/8 [==============================] - 0s 32ms/step - loss: 1.3055 - accuracy: 0.4931\n",
            "Epoch 66/200\n",
            "8/8 [==============================] - 0s 33ms/step - loss: 1.3122 - accuracy: 0.4979\n",
            "Epoch 67/200\n",
            "8/8 [==============================] - 0s 34ms/step - loss: 1.3252 - accuracy: 0.4811\n",
            "Epoch 68/200\n",
            "8/8 [==============================] - 0s 33ms/step - loss: 1.3285 - accuracy: 0.4724\n",
            "Epoch 69/200\n",
            "8/8 [==============================] - 0s 34ms/step - loss: 1.2891 - accuracy: 0.5030\n",
            "Epoch 70/200\n",
            "8/8 [==============================] - 0s 35ms/step - loss: 1.3165 - accuracy: 0.4981\n",
            "Epoch 71/200\n",
            "8/8 [==============================] - 0s 34ms/step - loss: 1.3592 - accuracy: 0.4767\n",
            "Epoch 72/200\n",
            "8/8 [==============================] - 0s 32ms/step - loss: 1.3129 - accuracy: 0.5015\n",
            "Epoch 73/200\n",
            "8/8 [==============================] - 0s 32ms/step - loss: 1.2988 - accuracy: 0.5093\n",
            "Epoch 74/200\n",
            "8/8 [==============================] - 0s 33ms/step - loss: 1.3195 - accuracy: 0.4912\n",
            "Epoch 75/200\n",
            "8/8 [==============================] - 0s 34ms/step - loss: 1.3032 - accuracy: 0.5033\n",
            "Epoch 76/200\n",
            "8/8 [==============================] - 0s 33ms/step - loss: 1.3434 - accuracy: 0.4743\n",
            "Epoch 77/200\n",
            "8/8 [==============================] - 0s 33ms/step - loss: 1.3041 - accuracy: 0.4953\n",
            "Epoch 78/200\n",
            "8/8 [==============================] - 0s 32ms/step - loss: 1.3278 - accuracy: 0.4946\n",
            "Epoch 79/200\n",
            "8/8 [==============================] - 0s 32ms/step - loss: 1.2934 - accuracy: 0.5110\n",
            "Epoch 80/200\n",
            "8/8 [==============================] - 0s 32ms/step - loss: 1.3075 - accuracy: 0.4981\n",
            "Epoch 81/200\n",
            "8/8 [==============================] - 0s 32ms/step - loss: 1.3294 - accuracy: 0.4914\n",
            "Epoch 82/200\n",
            "8/8 [==============================] - 0s 34ms/step - loss: 1.3454 - accuracy: 0.4871\n",
            "Epoch 83/200\n",
            "8/8 [==============================] - 0s 33ms/step - loss: 1.2987 - accuracy: 0.4952\n",
            "Epoch 84/200\n",
            "8/8 [==============================] - 0s 33ms/step - loss: 1.3362 - accuracy: 0.4803\n",
            "Epoch 85/200\n",
            "8/8 [==============================] - 0s 33ms/step - loss: 1.3846 - accuracy: 0.4646\n",
            "Epoch 86/200\n",
            "8/8 [==============================] - 0s 32ms/step - loss: 1.3046 - accuracy: 0.4974\n",
            "Epoch 87/200\n",
            "8/8 [==============================] - 0s 32ms/step - loss: 1.2955 - accuracy: 0.5027\n",
            "Epoch 88/200\n",
            "8/8 [==============================] - 0s 32ms/step - loss: 1.3079 - accuracy: 0.4942\n",
            "Epoch 89/200\n",
            "8/8 [==============================] - 0s 33ms/step - loss: 1.3361 - accuracy: 0.4836\n",
            "Epoch 90/200\n",
            "8/8 [==============================] - 0s 32ms/step - loss: 1.3338 - accuracy: 0.4961\n",
            "Epoch 91/200\n",
            "8/8 [==============================] - 0s 32ms/step - loss: 1.3568 - accuracy: 0.4635\n",
            "Epoch 92/200\n",
            "8/8 [==============================] - 0s 33ms/step - loss: 1.3211 - accuracy: 0.4810\n",
            "Epoch 93/200\n",
            "8/8 [==============================] - 0s 32ms/step - loss: 1.3310 - accuracy: 0.4868\n",
            "Epoch 94/200\n",
            "8/8 [==============================] - 0s 34ms/step - loss: 1.3375 - accuracy: 0.4971\n",
            "Epoch 95/200\n",
            "8/8 [==============================] - 0s 33ms/step - loss: 1.2845 - accuracy: 0.5036\n",
            "Epoch 96/200\n",
            "8/8 [==============================] - 0s 32ms/step - loss: 1.3583 - accuracy: 0.4750\n",
            "Epoch 97/200\n",
            "8/8 [==============================] - 0s 33ms/step - loss: 1.3356 - accuracy: 0.4766\n",
            "Epoch 98/200\n",
            "8/8 [==============================] - 0s 33ms/step - loss: 1.2751 - accuracy: 0.5154\n",
            "Epoch 99/200\n",
            "8/8 [==============================] - 0s 33ms/step - loss: 1.3213 - accuracy: 0.5042\n",
            "Epoch 100/200\n",
            "8/8 [==============================] - 0s 33ms/step - loss: 1.3194 - accuracy: 0.4785\n",
            "Epoch 101/200\n",
            "8/8 [==============================] - 0s 34ms/step - loss: 1.3656 - accuracy: 0.4605\n",
            "Epoch 102/200\n",
            "8/8 [==============================] - 0s 33ms/step - loss: 1.3240 - accuracy: 0.4984\n",
            "Epoch 103/200\n",
            "8/8 [==============================] - 0s 32ms/step - loss: 1.3487 - accuracy: 0.4784\n",
            "Epoch 104/200\n",
            "8/8 [==============================] - 0s 34ms/step - loss: 1.3062 - accuracy: 0.5007\n",
            "Epoch 105/200\n",
            "8/8 [==============================] - 0s 33ms/step - loss: 1.3206 - accuracy: 0.4941\n",
            "Epoch 106/200\n",
            "8/8 [==============================] - 0s 34ms/step - loss: 1.3061 - accuracy: 0.5126\n",
            "Epoch 107/200\n",
            "8/8 [==============================] - 0s 32ms/step - loss: 1.3278 - accuracy: 0.4829\n",
            "Epoch 108/200\n",
            "8/8 [==============================] - 0s 33ms/step - loss: 1.3293 - accuracy: 0.4992\n",
            "Epoch 109/200\n",
            "8/8 [==============================] - 0s 32ms/step - loss: 1.3299 - accuracy: 0.4943\n",
            "Epoch 110/200\n",
            "8/8 [==============================] - 0s 33ms/step - loss: 1.3269 - accuracy: 0.4786\n",
            "Epoch 111/200\n",
            "8/8 [==============================] - 0s 32ms/step - loss: 1.3295 - accuracy: 0.4923\n",
            "Epoch 112/200\n",
            "8/8 [==============================] - 0s 33ms/step - loss: 1.3358 - accuracy: 0.4856\n",
            "Epoch 113/200\n",
            "8/8 [==============================] - 0s 32ms/step - loss: 1.3180 - accuracy: 0.4922\n",
            "Epoch 114/200\n",
            "8/8 [==============================] - 0s 33ms/step - loss: 1.3184 - accuracy: 0.5067\n",
            "Epoch 115/200\n",
            "8/8 [==============================] - 0s 33ms/step - loss: 1.2686 - accuracy: 0.5303\n",
            "Epoch 116/200\n",
            "8/8 [==============================] - 0s 31ms/step - loss: 1.3462 - accuracy: 0.4844\n",
            "Epoch 117/200\n",
            "8/8 [==============================] - 0s 32ms/step - loss: 1.3328 - accuracy: 0.4830\n",
            "Epoch 118/200\n",
            "8/8 [==============================] - 0s 34ms/step - loss: 1.3037 - accuracy: 0.5095\n",
            "Epoch 119/200\n",
            "8/8 [==============================] - 0s 34ms/step - loss: 1.3346 - accuracy: 0.4999\n",
            "Epoch 120/200\n",
            "8/8 [==============================] - 0s 33ms/step - loss: 1.3205 - accuracy: 0.5064\n",
            "Epoch 121/200\n",
            "8/8 [==============================] - 0s 33ms/step - loss: 1.3007 - accuracy: 0.5059\n",
            "Epoch 122/200\n",
            "8/8 [==============================] - 0s 34ms/step - loss: 1.3453 - accuracy: 0.4819\n",
            "Epoch 123/200\n",
            "8/8 [==============================] - 0s 35ms/step - loss: 1.2944 - accuracy: 0.5022\n",
            "Epoch 124/200\n",
            "8/8 [==============================] - 0s 33ms/step - loss: 1.3381 - accuracy: 0.4924\n",
            "Epoch 125/200\n",
            "8/8 [==============================] - 0s 32ms/step - loss: 1.3254 - accuracy: 0.4989\n",
            "Epoch 126/200\n",
            "8/8 [==============================] - 0s 35ms/step - loss: 1.3320 - accuracy: 0.5007\n",
            "Epoch 127/200\n",
            "8/8 [==============================] - 0s 32ms/step - loss: 1.3418 - accuracy: 0.4787\n",
            "Epoch 128/200\n",
            "8/8 [==============================] - 0s 35ms/step - loss: 1.3380 - accuracy: 0.4686\n",
            "Epoch 129/200\n",
            "8/8 [==============================] - 0s 33ms/step - loss: 1.2998 - accuracy: 0.5057\n",
            "Epoch 130/200\n",
            "8/8 [==============================] - 0s 35ms/step - loss: 1.2672 - accuracy: 0.5249\n",
            "Epoch 131/200\n",
            "8/8 [==============================] - 0s 33ms/step - loss: 1.2997 - accuracy: 0.5036\n",
            "Epoch 132/200\n",
            "8/8 [==============================] - 0s 33ms/step - loss: 1.3428 - accuracy: 0.4746\n",
            "Epoch 133/200\n",
            "8/8 [==============================] - 0s 33ms/step - loss: 1.2737 - accuracy: 0.5258\n",
            "Epoch 134/200\n",
            "8/8 [==============================] - 0s 32ms/step - loss: 1.2940 - accuracy: 0.4901\n",
            "Epoch 135/200\n",
            "8/8 [==============================] - 0s 33ms/step - loss: 1.3034 - accuracy: 0.5006\n",
            "Epoch 136/200\n",
            "8/8 [==============================] - 0s 33ms/step - loss: 1.3479 - accuracy: 0.4729\n",
            "Epoch 137/200\n",
            "8/8 [==============================] - 0s 32ms/step - loss: 1.3549 - accuracy: 0.4755\n",
            "Epoch 138/200\n",
            "8/8 [==============================] - 0s 32ms/step - loss: 1.2945 - accuracy: 0.5084\n",
            "Epoch 139/200\n",
            "8/8 [==============================] - 0s 36ms/step - loss: 1.2961 - accuracy: 0.5107\n",
            "Epoch 140/200\n",
            "8/8 [==============================] - 0s 33ms/step - loss: 1.3319 - accuracy: 0.4949\n",
            "Epoch 141/200\n",
            "8/8 [==============================] - 0s 34ms/step - loss: 1.3629 - accuracy: 0.4642\n",
            "Epoch 142/200\n",
            "8/8 [==============================] - 0s 33ms/step - loss: 1.3391 - accuracy: 0.4858\n",
            "Epoch 143/200\n",
            "8/8 [==============================] - 0s 32ms/step - loss: 1.3093 - accuracy: 0.5002\n",
            "Epoch 144/200\n",
            "8/8 [==============================] - 0s 31ms/step - loss: 1.3328 - accuracy: 0.4938\n",
            "Epoch 145/200\n",
            "8/8 [==============================] - 0s 34ms/step - loss: 1.3471 - accuracy: 0.4809\n",
            "Epoch 146/200\n",
            "8/8 [==============================] - 0s 32ms/step - loss: 1.3091 - accuracy: 0.5057\n",
            "Epoch 147/200\n",
            "8/8 [==============================] - 0s 34ms/step - loss: 1.3235 - accuracy: 0.4884\n",
            "Epoch 148/200\n",
            "8/8 [==============================] - 0s 35ms/step - loss: 1.3189 - accuracy: 0.4842\n",
            "Epoch 149/200\n",
            "8/8 [==============================] - 0s 34ms/step - loss: 1.3489 - accuracy: 0.4706\n",
            "Epoch 150/200\n",
            "8/8 [==============================] - 0s 33ms/step - loss: 1.3050 - accuracy: 0.5110\n",
            "Epoch 151/200\n",
            "8/8 [==============================] - 0s 33ms/step - loss: 1.3323 - accuracy: 0.4959\n",
            "Epoch 152/200\n",
            "8/8 [==============================] - 0s 34ms/step - loss: 1.3231 - accuracy: 0.4980\n",
            "Epoch 153/200\n",
            "8/8 [==============================] - 0s 34ms/step - loss: 1.2770 - accuracy: 0.5238\n",
            "Epoch 154/200\n",
            "8/8 [==============================] - 0s 33ms/step - loss: 1.2831 - accuracy: 0.5113\n",
            "Epoch 155/200\n",
            "8/8 [==============================] - 0s 34ms/step - loss: 1.3116 - accuracy: 0.4913\n",
            "Epoch 156/200\n",
            "8/8 [==============================] - 0s 34ms/step - loss: 1.3255 - accuracy: 0.4936\n",
            "Epoch 157/200\n",
            "8/8 [==============================] - 0s 32ms/step - loss: 1.3288 - accuracy: 0.4830\n",
            "Epoch 158/200\n",
            "8/8 [==============================] - 0s 32ms/step - loss: 1.2982 - accuracy: 0.5194\n",
            "Epoch 159/200\n",
            "8/8 [==============================] - 0s 33ms/step - loss: 1.3146 - accuracy: 0.5004\n",
            "Epoch 160/200\n",
            "8/8 [==============================] - 0s 34ms/step - loss: 1.2702 - accuracy: 0.5318\n",
            "Epoch 161/200\n",
            "8/8 [==============================] - 0s 33ms/step - loss: 1.3422 - accuracy: 0.4801\n",
            "Epoch 162/200\n",
            "8/8 [==============================] - 0s 34ms/step - loss: 1.3064 - accuracy: 0.4942\n",
            "Epoch 163/200\n",
            "8/8 [==============================] - 0s 36ms/step - loss: 1.3044 - accuracy: 0.5023\n",
            "Epoch 164/200\n",
            "8/8 [==============================] - 0s 33ms/step - loss: 1.3014 - accuracy: 0.4916\n",
            "Epoch 165/200\n",
            "8/8 [==============================] - 0s 35ms/step - loss: 1.3323 - accuracy: 0.4782\n",
            "Epoch 166/200\n",
            "8/8 [==============================] - 0s 33ms/step - loss: 1.3412 - accuracy: 0.4896\n",
            "Epoch 167/200\n",
            "8/8 [==============================] - 0s 34ms/step - loss: 1.2807 - accuracy: 0.5210\n",
            "Epoch 168/200\n",
            "8/8 [==============================] - 0s 33ms/step - loss: 1.3253 - accuracy: 0.5021\n",
            "Epoch 169/200\n",
            "8/8 [==============================] - 0s 33ms/step - loss: 1.2999 - accuracy: 0.5149\n",
            "Epoch 170/200\n",
            "8/8 [==============================] - 0s 36ms/step - loss: 1.3081 - accuracy: 0.4999\n",
            "Epoch 171/200\n",
            "8/8 [==============================] - 0s 34ms/step - loss: 1.3214 - accuracy: 0.5038\n",
            "Epoch 172/200\n",
            "8/8 [==============================] - 0s 33ms/step - loss: 1.3476 - accuracy: 0.4934\n",
            "Epoch 173/200\n",
            "8/8 [==============================] - 0s 32ms/step - loss: 1.3107 - accuracy: 0.5074\n",
            "Epoch 174/200\n",
            "8/8 [==============================] - 0s 33ms/step - loss: 1.2942 - accuracy: 0.4987\n",
            "Epoch 175/200\n",
            "8/8 [==============================] - 0s 33ms/step - loss: 1.3343 - accuracy: 0.4768\n",
            "Epoch 176/200\n",
            "8/8 [==============================] - 0s 34ms/step - loss: 1.2875 - accuracy: 0.5107\n",
            "Epoch 177/200\n",
            "8/8 [==============================] - 0s 34ms/step - loss: 1.3081 - accuracy: 0.5011\n",
            "Epoch 178/200\n",
            "8/8 [==============================] - 0s 35ms/step - loss: 1.3120 - accuracy: 0.4969\n",
            "Epoch 179/200\n",
            "8/8 [==============================] - 0s 33ms/step - loss: 1.3148 - accuracy: 0.4855\n",
            "Epoch 180/200\n",
            "8/8 [==============================] - 0s 33ms/step - loss: 1.2866 - accuracy: 0.5185\n",
            "Epoch 181/200\n",
            "8/8 [==============================] - 0s 35ms/step - loss: 1.2972 - accuracy: 0.4990\n",
            "Epoch 182/200\n",
            "8/8 [==============================] - 0s 33ms/step - loss: 1.3524 - accuracy: 0.4899\n",
            "Epoch 183/200\n",
            "8/8 [==============================] - 0s 33ms/step - loss: 1.3388 - accuracy: 0.4638\n",
            "Epoch 184/200\n",
            "8/8 [==============================] - 0s 33ms/step - loss: 1.3619 - accuracy: 0.4740\n",
            "Epoch 185/200\n",
            "8/8 [==============================] - 0s 33ms/step - loss: 1.3366 - accuracy: 0.5051\n",
            "Epoch 186/200\n",
            "8/8 [==============================] - 0s 33ms/step - loss: 1.2594 - accuracy: 0.5269\n",
            "Epoch 187/200\n",
            "8/8 [==============================] - 0s 33ms/step - loss: 1.3541 - accuracy: 0.4744\n",
            "Epoch 188/200\n",
            "8/8 [==============================] - 0s 33ms/step - loss: 1.3183 - accuracy: 0.4904\n",
            "Epoch 189/200\n",
            "8/8 [==============================] - 0s 33ms/step - loss: 1.2963 - accuracy: 0.5006\n",
            "Epoch 190/200\n",
            "8/8 [==============================] - 0s 33ms/step - loss: 1.3244 - accuracy: 0.5063\n",
            "Epoch 191/200\n",
            "8/8 [==============================] - 0s 33ms/step - loss: 1.3420 - accuracy: 0.4816\n",
            "Epoch 192/200\n",
            "8/8 [==============================] - 0s 33ms/step - loss: 1.3396 - accuracy: 0.4759\n",
            "Epoch 193/200\n",
            "8/8 [==============================] - 0s 34ms/step - loss: 1.3138 - accuracy: 0.5061\n",
            "Epoch 194/200\n",
            "8/8 [==============================] - 0s 34ms/step - loss: 1.3185 - accuracy: 0.4968\n",
            "Epoch 195/200\n",
            "8/8 [==============================] - 0s 33ms/step - loss: 1.3374 - accuracy: 0.4798\n",
            "Epoch 196/200\n",
            "8/8 [==============================] - 0s 35ms/step - loss: 1.3282 - accuracy: 0.5037\n",
            "Epoch 197/200\n",
            "8/8 [==============================] - 0s 33ms/step - loss: 1.3029 - accuracy: 0.5133\n",
            "Epoch 198/200\n",
            "8/8 [==============================] - 0s 33ms/step - loss: 1.3260 - accuracy: 0.4936\n",
            "Epoch 199/200\n",
            "8/8 [==============================] - 0s 33ms/step - loss: 1.3074 - accuracy: 0.5087\n",
            "Epoch 200/200\n",
            "8/8 [==============================] - 0s 33ms/step - loss: 1.3113 - accuracy: 0.4938\n"
          ],
          "name": "stdout"
        },
        {
          "output_type": "execute_result",
          "data": {
            "text/plain": [
              "<tensorflow.python.keras.callbacks.History at 0x7f3ee32d1ed0>"
            ]
          },
          "metadata": {
            "tags": []
          },
          "execution_count": 63
        }
      ]
    },
    {
      "cell_type": "code",
      "metadata": {
        "id": "qv5ocjDXxdg-"
      },
      "source": [
        "t_labels = []\n",
        "for i in range(40) :\n",
        "  t_labels.append(0)\n",
        "for i in range(44) :\n",
        "  t_labels.append(1)\n",
        "for i in range(228) :\n",
        "  t_labels.append(2)\n",
        "for i in range(116) :\n",
        "  t_labels.append(3)\n",
        "for i in range(32) :\n",
        "  t_labels.append(4)\n",
        "train_labels = np.array(t_labels)"
      ],
      "execution_count": null,
      "outputs": []
    },
    {
      "cell_type": "code",
      "metadata": {
        "id": "QhgW-ZvMxdj6"
      },
      "source": [
        "te_labels = []\n",
        "for i in range(16) :\n",
        "  te_labels.append(0)\n",
        "for i in range(12) :\n",
        "  te_labels.append(1)\n",
        "for i in range(19) :\n",
        "  te_labels.append(2)\n",
        "for i in range(20) :\n",
        "  te_labels.append(3)\n",
        "for i in range(8) :\n",
        "  te_labels.append(4)\n",
        "test_labels = np.array(te_labels)"
      ],
      "execution_count": null,
      "outputs": []
    },
    {
      "cell_type": "code",
      "metadata": {
        "id": "f73d-OkJxdmn"
      },
      "source": [
        ""
      ],
      "execution_count": null,
      "outputs": []
    },
    {
      "cell_type": "code",
      "metadata": {
        "id": "kJ1zZk7qxdqH"
      },
      "source": [
        "import tensorflow as tf\n",
        "#y_pred=model.predict_classes(x_test)\n",
        "#con_mat = tf.math.confusion_matrix(labels=test_labels, predictions=y_pred).numpy()"
      ],
      "execution_count": null,
      "outputs": []
    },
    {
      "cell_type": "code",
      "metadata": {
        "id": "rygevfs_GdtY"
      },
      "source": [
        ""
      ],
      "execution_count": null,
      "outputs": []
    },
    {
      "cell_type": "code",
      "metadata": {
        "id": "FXwrOltuGdy8"
      },
      "source": [
        ""
      ],
      "execution_count": null,
      "outputs": []
    },
    {
      "cell_type": "code",
      "metadata": {
        "id": "NPXJaRkjGd4U",
        "colab": {
          "base_uri": "https://localhost:8080/"
        },
        "outputId": "b9c6a509-56c8-4a9f-d8cf-f17f80934d3a"
      },
      "source": [
        "np.shape(test_labels)"
      ],
      "execution_count": null,
      "outputs": [
        {
          "output_type": "execute_result",
          "data": {
            "text/plain": [
              "(75, 5)"
            ]
          },
          "metadata": {
            "tags": []
          },
          "execution_count": 80
        }
      ]
    },
    {
      "cell_type": "code",
      "metadata": {
        "colab": {
          "base_uri": "https://localhost:8080/",
          "height": 34
        },
        "id": "BPnldJIQvuNX",
        "outputId": "a6427b46-1b81-4fa4-80c1-ffe9168cc0c1"
      },
      "source": [
        "display(Image(result_prefix + \"_at_iteration_4000.png\"))"
      ],
      "execution_count": null,
      "outputs": [
        {
          "output_type": "display_data",
          "data": {
            "image/png": "paris_generated_at_iteration_4000.png",
            "text/plain": [
              "<IPython.core.display.Image object>"
            ]
          },
          "metadata": {
            "tags": []
          }
        }
      ]
    },
    {
      "cell_type": "code",
      "metadata": {
        "id": "Ji5xtcEXGd9w"
      },
      "source": [
        ""
      ],
      "execution_count": null,
      "outputs": []
    },
    {
      "cell_type": "code",
      "metadata": {
        "id": "m9-Xk3qrGeDW"
      },
      "source": [
        ""
      ],
      "execution_count": null,
      "outputs": []
    },
    {
      "cell_type": "code",
      "metadata": {
        "id": "OJXM2f6UGeJE"
      },
      "source": [
        ""
      ],
      "execution_count": null,
      "outputs": []
    },
    {
      "cell_type": "code",
      "metadata": {
        "id": "hPOcSJdHGeRr"
      },
      "source": [
        ""
      ],
      "execution_count": null,
      "outputs": []
    },
    {
      "cell_type": "code",
      "metadata": {
        "id": "euFyW7MgGeW-"
      },
      "source": [
        ""
      ],
      "execution_count": null,
      "outputs": []
    },
    {
      "cell_type": "code",
      "metadata": {
        "id": "8UbmuSJWGiLD"
      },
      "source": [
        ""
      ],
      "execution_count": null,
      "outputs": []
    },
    {
      "cell_type": "code",
      "metadata": {
        "id": "AgWFa46GGiR5"
      },
      "source": [
        ""
      ],
      "execution_count": null,
      "outputs": []
    },
    {
      "cell_type": "code",
      "metadata": {
        "id": "TQdToQnLGiZa"
      },
      "source": [
        ""
      ],
      "execution_count": null,
      "outputs": []
    }
  ]
}